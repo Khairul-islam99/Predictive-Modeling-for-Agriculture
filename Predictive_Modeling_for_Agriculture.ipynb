{
  "cells": [
    {
      "source": [
        "# Sowing Success: How Machine Learning Helps Farmers Select the Best Crops\n",
        "\n",
        "![Farmer in a field](farmer_in_a_field.jpg)\n",
        "\n",
        "Measuring essential soil metrics such as nitrogen, phosphorous, potassium levels, and pH value is an important aspect of assessing soil condition. However, it can be an expensive and time-consuming process, which can cause farmers to prioritize which metrics to measure based on their budget constraints.\n",
        "\n",
        "Farmers have various options when it comes to deciding which crop to plant each season. Their primary objective is to maximize the yield of their crops, taking into account different factors. One crucial factor that affects crop growth is the condition of the soil in the field, which can be assessed by measuring basic elements such as nitrogen and potassium levels. Each crop has an ideal soil condition that ensures optimal growth and maximum yield.\n",
        "\n",
        "A farmer reached out to you as a machine learning expert for assistance in selecting the best crop for his field. They've provided you with a dataset called `soil_measures.csv`, which contains:\n",
        "\n",
        "- `\"N\"`: Nitrogen content ratio in the soil\n",
        "- `\"P\"`: Phosphorous content ratio in the soil\n",
        "- `\"K\"`: Potassium content ratio in the soil\n",
        "- `\"pH\"` value of the soil\n",
        "- `\"crop\"`: categorical values that contain various crops (target variable).\n",
        "\n",
        "Each row in this dataset represents various measures of the soil in a particular field. Based on these measurements, the crop specified in the `\"crop\"` column is the optimal choice for that field.  \n",
        "\n",
        "In this project, you will build multi-class classification models to predict the type of `\"crop\"` and identify the single most importance feature for predictive performance."
      ],
      "metadata": {
        "id": "d3d001b0-2e2f-4b58-8442-99520bad831f"
      },
      "id": "d3d001b0-2e2f-4b58-8442-99520bad831f",
      "cell_type": "markdown"
    },
    {
      "source": [
        "# All required libraries are imported here for you.\n",
        "import pandas as pd\n",
        "import numpy as np\n",
        "from sklearn.linear_model import LogisticRegression\n",
        "from sklearn.model_selection import train_test_split\n",
        "from sklearn import metrics\n",
        "\n",
        "# Load the dataset\n",
        "crops = pd.read_csv(\"soil_measures.csv\")\n",
        "\n",
        "# Write your code here"
      ],
      "metadata": {
        "id": "d0eb4f16-5a99-460d-a5ba-706b7ef0bbe7",
        "executionTime": 50,
        "lastSuccessfullyExecutedCode": "# All required libraries are imported here for you.\nimport pandas as pd\nimport numpy as np \nfrom sklearn.linear_model import LogisticRegression\nfrom sklearn.model_selection import train_test_split\nfrom sklearn import metrics\n\n# Load the dataset\ncrops = pd.read_csv(\"soil_measures.csv\")\n\n# Write your code here",
        "executionCancelledAt": null,
        "lastExecutedAt": 1731555881648,
        "lastScheduledRunId": null,
        "lastExecutedByKernel": "e1d8ac56-86e9-478b-ab3f-6046ee090b5d"
      },
      "id": "d0eb4f16-5a99-460d-a5ba-706b7ef0bbe7",
      "cell_type": "code",
      "execution_count": null,
      "outputs": []
    },
    {
      "source": [
        "crops.head()"
      ],
      "metadata": {
        "executionCancelledAt": null,
        "executionTime": 61,
        "lastExecutedAt": 1731555881709,
        "lastExecutedByKernel": "e1d8ac56-86e9-478b-ab3f-6046ee090b5d",
        "lastScheduledRunId": null,
        "lastSuccessfullyExecutedCode": "crops.head()",
        "outputsMetadata": {
          "0": {
            "height": 550,
            "type": "dataFrame",
            "tableState": {
              "quickFilterText": ""
            }
          }
        },
        "id": "5f15e0a7-69e3-4fe6-9c55-74f46b80e137",
        "outputId": "8c06fcd7-2504-4e0e-ee7d-e06318925878"
      },
      "cell_type": "code",
      "id": "5f15e0a7-69e3-4fe6-9c55-74f46b80e137",
      "outputs": [
        {
          "output_type": "execute_result",
          "data": {
            "application/com.datacamp.data-table.v2+json": {
              "table": {
                "schema": {
                  "fields": [
                    {
                      "name": "index",
                      "type": "integer"
                    },
                    {
                      "name": "N",
                      "type": "integer"
                    },
                    {
                      "name": "P",
                      "type": "integer"
                    },
                    {
                      "name": "K",
                      "type": "integer"
                    },
                    {
                      "name": "ph",
                      "type": "number"
                    },
                    {
                      "name": "crop",
                      "type": "string"
                    }
                  ],
                  "primaryKey": [
                    "index"
                  ],
                  "pandas_version": "1.4.0"
                },
                "data": {
                  "index": [
                    0,
                    1,
                    2,
                    3,
                    4
                  ],
                  "N": [
                    90,
                    85,
                    60,
                    74,
                    78
                  ],
                  "P": [
                    42,
                    58,
                    55,
                    35,
                    42
                  ],
                  "K": [
                    43,
                    41,
                    44,
                    40,
                    42
                  ],
                  "ph": [
                    6.502985292,
                    7.038096361,
                    7.840207144,
                    6.980400905,
                    7.628472891
                  ],
                  "crop": [
                    "rice",
                    "rice",
                    "rice",
                    "rice",
                    "rice"
                  ]
                }
              },
              "total_rows": 5,
              "truncation_type": null
            },
            "text/plain": "    N   P   K        ph  crop\n0  90  42  43  6.502985  rice\n1  85  58  41  7.038096  rice\n2  60  55  44  7.840207  rice\n3  74  35  40  6.980401  rice\n4  78  42  42  7.628473  rice",
            "text/html": "<div>\n<style scoped>\n    .dataframe tbody tr th:only-of-type {\n        vertical-align: middle;\n    }\n\n    .dataframe tbody tr th {\n        vertical-align: top;\n    }\n\n    .dataframe thead th {\n        text-align: right;\n    }\n</style>\n<table border=\"1\" class=\"dataframe\">\n  <thead>\n    <tr style=\"text-align: right;\">\n      <th></th>\n      <th>N</th>\n      <th>P</th>\n      <th>K</th>\n      <th>ph</th>\n      <th>crop</th>\n    </tr>\n  </thead>\n  <tbody>\n    <tr>\n      <th>0</th>\n      <td>90</td>\n      <td>42</td>\n      <td>43</td>\n      <td>6.502985</td>\n      <td>rice</td>\n    </tr>\n    <tr>\n      <th>1</th>\n      <td>85</td>\n      <td>58</td>\n      <td>41</td>\n      <td>7.038096</td>\n      <td>rice</td>\n    </tr>\n    <tr>\n      <th>2</th>\n      <td>60</td>\n      <td>55</td>\n      <td>44</td>\n      <td>7.840207</td>\n      <td>rice</td>\n    </tr>\n    <tr>\n      <th>3</th>\n      <td>74</td>\n      <td>35</td>\n      <td>40</td>\n      <td>6.980401</td>\n      <td>rice</td>\n    </tr>\n    <tr>\n      <th>4</th>\n      <td>78</td>\n      <td>42</td>\n      <td>42</td>\n      <td>7.628473</td>\n      <td>rice</td>\n    </tr>\n  </tbody>\n</table>\n</div>"
          },
          "metadata": {},
          "execution_count": 214
        }
      ],
      "execution_count": null
    },
    {
      "source": [
        "crops.isnull().sum()"
      ],
      "metadata": {
        "executionCancelledAt": null,
        "executionTime": 51,
        "lastExecutedAt": 1731555881760,
        "lastExecutedByKernel": "e1d8ac56-86e9-478b-ab3f-6046ee090b5d",
        "lastScheduledRunId": null,
        "lastSuccessfullyExecutedCode": "crops.isnull().sum()",
        "outputsMetadata": {
          "0": {
            "height": 550,
            "type": "dataFrame",
            "tableState": {
              "quickFilterText": ""
            }
          }
        },
        "id": "25d726c4-b5bc-4ab0-b37b-5c3c793822cf",
        "outputId": "fcd5ccff-85b0-4435-a1bf-8fd7b57584b5"
      },
      "cell_type": "code",
      "id": "25d726c4-b5bc-4ab0-b37b-5c3c793822cf",
      "outputs": [
        {
          "output_type": "execute_result",
          "data": {
            "application/com.datacamp.data-table.v2+json": {
              "table": {
                "schema": {
                  "fields": [
                    {
                      "name": "index",
                      "type": "string"
                    },
                    {
                      "name": "0",
                      "type": "integer"
                    }
                  ],
                  "primaryKey": [
                    "index"
                  ],
                  "pandas_version": "1.4.0"
                },
                "data": {
                  "0": [
                    0,
                    0,
                    0,
                    0,
                    0
                  ],
                  "index": [
                    "N",
                    "P",
                    "K",
                    "ph",
                    "crop"
                  ]
                }
              },
              "total_rows": 5,
              "truncation_type": null
            },
            "text/plain": "N       0\nP       0\nK       0\nph      0\ncrop    0\ndtype: int64"
          },
          "metadata": {},
          "execution_count": 215
        }
      ],
      "execution_count": null
    },
    {
      "source": [
        "crops[\"crop\"].unique()"
      ],
      "metadata": {
        "executionCancelledAt": null,
        "executionTime": 52,
        "lastExecutedAt": 1731555881812,
        "lastExecutedByKernel": "e1d8ac56-86e9-478b-ab3f-6046ee090b5d",
        "lastScheduledRunId": null,
        "lastSuccessfullyExecutedCode": "crops[\"crop\"].unique()",
        "id": "475faf27-0e7f-4db6-8cb4-709da2273bbf",
        "outputId": "243166ef-94f0-465b-e869-e73bf7c0b7b6"
      },
      "cell_type": "code",
      "id": "475faf27-0e7f-4db6-8cb4-709da2273bbf",
      "outputs": [
        {
          "output_type": "execute_result",
          "data": {
            "text/plain": "array(['rice', 'maize', 'chickpea', 'kidneybeans', 'pigeonpeas',\n       'mothbeans', 'mungbean', 'blackgram', 'lentil', 'pomegranate',\n       'banana', 'mango', 'grapes', 'watermelon', 'muskmelon', 'apple',\n       'orange', 'papaya', 'coconut', 'cotton', 'jute', 'coffee'],\n      dtype=object)"
          },
          "metadata": {},
          "execution_count": 216
        }
      ],
      "execution_count": null
    },
    {
      "source": [
        "data = {\n",
        "     \"N\": np.random.rand(100),\n",
        "    \"P\": np.random.rand(100),\n",
        "    \"K\": np.random.rand(100),\n",
        "    \"pH\": np.random.rand(100),\n",
        "    \"crop\": np.random.choice(['rice', 'maize', 'chickpea', 'kidneybeans', 'pigeonpeas',\n",
        "       'mothbeans', 'mungbean', 'blackgram', 'lentil', 'pomegranate',\n",
        "       'banana', 'mango', 'grapes', 'watermelon', 'muskmelon', 'apple',\n",
        "       'orange', 'papaya', 'coconut', 'cotton', 'jute', 'coffee'],100)\n",
        "\n",
        "}"
      ],
      "metadata": {
        "executionCancelledAt": null,
        "executionTime": 52,
        "lastExecutedAt": 1731555881864,
        "lastExecutedByKernel": "e1d8ac56-86e9-478b-ab3f-6046ee090b5d",
        "lastScheduledRunId": null,
        "lastSuccessfullyExecutedCode": "data = {\n     \"N\": np.random.rand(100),\n    \"P\": np.random.rand(100),\n    \"K\": np.random.rand(100),\n    \"pH\": np.random.rand(100),\n    \"crop\": np.random.choice(['rice', 'maize', 'chickpea', 'kidneybeans', 'pigeonpeas',\n       'mothbeans', 'mungbean', 'blackgram', 'lentil', 'pomegranate',\n       'banana', 'mango', 'grapes', 'watermelon', 'muskmelon', 'apple',\n       'orange', 'papaya', 'coconut', 'cotton', 'jute', 'coffee'],100)\n   \n}",
        "id": "e6bfad2d-c828-49ba-acf1-c20947625d82"
      },
      "cell_type": "code",
      "id": "e6bfad2d-c828-49ba-acf1-c20947625d82",
      "outputs": [],
      "execution_count": null
    },
    {
      "source": [
        "df = pd.DataFrame(data)"
      ],
      "metadata": {
        "executionCancelledAt": null,
        "executionTime": 52,
        "lastExecutedAt": 1731555881916,
        "lastExecutedByKernel": "e1d8ac56-86e9-478b-ab3f-6046ee090b5d",
        "lastScheduledRunId": null,
        "lastSuccessfullyExecutedCode": "df = pd.DataFrame(data)",
        "collapsed": true,
        "jupyter": {
          "outputs_hidden": true,
          "source_hidden": false
        },
        "id": "82130bfc-cf34-47dd-a9f1-4ecb33c02be8"
      },
      "cell_type": "code",
      "id": "82130bfc-cf34-47dd-a9f1-4ecb33c02be8",
      "outputs": [],
      "execution_count": null
    },
    {
      "source": [
        "features = [\"N\", \"P\", \"K\", \"pH\"]\n",
        "X = df[features]\n",
        "y = df[\"crop\"]"
      ],
      "cell_type": "code",
      "id": "ee25f6c6-4162-43ab-b6e7-e6aa75d0ca06",
      "outputs": [],
      "metadata": {
        "executionCancelledAt": null,
        "executionTime": 52,
        "lastExecutedAt": 1731555881968,
        "lastExecutedByKernel": "e1d8ac56-86e9-478b-ab3f-6046ee090b5d",
        "lastScheduledRunId": null,
        "lastSuccessfullyExecutedCode": "features = [\"N\", \"P\", \"K\", \"pH\"]\nX = df[features]\ny = df[\"crop\"]",
        "id": "ee25f6c6-4162-43ab-b6e7-e6aa75d0ca06"
      },
      "execution_count": null
    },
    {
      "source": [
        "print(y)"
      ],
      "metadata": {
        "executionCancelledAt": null,
        "executionTime": 48,
        "lastExecutedAt": 1731555882016,
        "lastExecutedByKernel": "e1d8ac56-86e9-478b-ab3f-6046ee090b5d",
        "lastScheduledRunId": null,
        "lastSuccessfullyExecutedCode": "print(y)",
        "outputsMetadata": {
          "0": {
            "height": 269,
            "type": "stream"
          }
        },
        "id": "d37e4a3f-dfca-448b-8510-69f4f862c9df",
        "outputId": "e6482744-ebfb-4a6a-ab29-8b31dcf3d7e5"
      },
      "cell_type": "code",
      "id": "d37e4a3f-dfca-448b-8510-69f4f862c9df",
      "outputs": [
        {
          "output_type": "stream",
          "name": "stdout",
          "text": "0        chickpea\n1          grapes\n2           apple\n3          papaya\n4           apple\n         ...     \n95     watermelon\n96    pomegranate\n97         banana\n98    kidneybeans\n99         grapes\nName: crop, Length: 100, dtype: object\n"
        }
      ],
      "execution_count": null
    },
    {
      "source": [
        "X_train, X_test , y_train,y_test = train_test_split(X, y , test_size = 0.2, random_state = 42)"
      ],
      "metadata": {
        "executionCancelledAt": null,
        "executionTime": 44,
        "lastExecutedAt": 1731555882060,
        "lastExecutedByKernel": "e1d8ac56-86e9-478b-ab3f-6046ee090b5d",
        "lastScheduledRunId": null,
        "lastSuccessfullyExecutedCode": "X_train, X_test , y_train,y_test = train_test_split(X, y , test_size = 0.2, random_state = 42)",
        "id": "7cfd15b9-c3ba-40ec-b927-f7c2eb374202"
      },
      "cell_type": "code",
      "id": "7cfd15b9-c3ba-40ec-b927-f7c2eb374202",
      "outputs": [],
      "execution_count": null
    },
    {
      "source": [
        "best_score = 0\n",
        "best_feature = []"
      ],
      "metadata": {
        "executionCancelledAt": null,
        "executionTime": 48,
        "lastExecutedAt": 1731555882108,
        "lastExecutedByKernel": "e1d8ac56-86e9-478b-ab3f-6046ee090b5d",
        "lastScheduledRunId": null,
        "lastSuccessfullyExecutedCode": "best_score = 0\nbest_feature = []",
        "id": "16ba23c4-8841-4257-86ae-19f95dd4e484"
      },
      "cell_type": "code",
      "id": "16ba23c4-8841-4257-86ae-19f95dd4e484",
      "outputs": [],
      "execution_count": null
    },
    {
      "source": [
        "feature_performance = {}\n",
        "\n",
        "for feature in features:\n",
        "\n",
        "    X_train_feature = X_train[[feature]]\n",
        "    X_test_feature = X_test[[feature]]"
      ],
      "metadata": {
        "executionCancelledAt": null,
        "executionTime": 50,
        "lastExecutedAt": 1731555882160,
        "lastExecutedByKernel": "e1d8ac56-86e9-478b-ab3f-6046ee090b5d",
        "lastScheduledRunId": null,
        "lastSuccessfullyExecutedCode": "feature_performance = {}\n\nfor feature in features:\n    \n    X_train_feature = X_train[[feature]]\n    X_test_feature = X_test[[feature]]",
        "id": "d873080b-e609-4c83-be30-f050240efd10"
      },
      "cell_type": "code",
      "id": "d873080b-e609-4c83-be30-f050240efd10",
      "outputs": [],
      "execution_count": null
    },
    {
      "source": [
        "model = LogisticRegression()\n",
        "model.fit(X_train_feature, y_train)"
      ],
      "metadata": {
        "executionCancelledAt": null,
        "executionTime": 56,
        "lastExecutedAt": 1731555882216,
        "lastExecutedByKernel": "e1d8ac56-86e9-478b-ab3f-6046ee090b5d",
        "lastScheduledRunId": null,
        "lastSuccessfullyExecutedCode": "model = LogisticRegression()\nmodel.fit(X_train_feature, y_train)",
        "id": "baca3f35-e5ee-43df-ac11-1c18c715919f",
        "outputId": "9f2489d5-db35-4654-de38-49e54b722664"
      },
      "cell_type": "code",
      "id": "baca3f35-e5ee-43df-ac11-1c18c715919f",
      "outputs": [
        {
          "output_type": "execute_result",
          "data": {
            "text/plain": "LogisticRegression()",
            "text/html": "<style>#sk-container-id-12 {color: black;background-color: white;}#sk-container-id-12 pre{padding: 0;}#sk-container-id-12 div.sk-toggleable {background-color: white;}#sk-container-id-12 label.sk-toggleable__label {cursor: pointer;display: block;width: 100%;margin-bottom: 0;padding: 0.3em;box-sizing: border-box;text-align: center;}#sk-container-id-12 label.sk-toggleable__label-arrow:before {content: \"▸\";float: left;margin-right: 0.25em;color: #696969;}#sk-container-id-12 label.sk-toggleable__label-arrow:hover:before {color: black;}#sk-container-id-12 div.sk-estimator:hover label.sk-toggleable__label-arrow:before {color: black;}#sk-container-id-12 div.sk-toggleable__content {max-height: 0;max-width: 0;overflow: hidden;text-align: left;background-color: #f0f8ff;}#sk-container-id-12 div.sk-toggleable__content pre {margin: 0.2em;color: black;border-radius: 0.25em;background-color: #f0f8ff;}#sk-container-id-12 input.sk-toggleable__control:checked~div.sk-toggleable__content {max-height: 200px;max-width: 100%;overflow: auto;}#sk-container-id-12 input.sk-toggleable__control:checked~label.sk-toggleable__label-arrow:before {content: \"▾\";}#sk-container-id-12 div.sk-estimator input.sk-toggleable__control:checked~label.sk-toggleable__label {background-color: #d4ebff;}#sk-container-id-12 div.sk-label input.sk-toggleable__control:checked~label.sk-toggleable__label {background-color: #d4ebff;}#sk-container-id-12 input.sk-hidden--visually {border: 0;clip: rect(1px 1px 1px 1px);clip: rect(1px, 1px, 1px, 1px);height: 1px;margin: -1px;overflow: hidden;padding: 0;position: absolute;width: 1px;}#sk-container-id-12 div.sk-estimator {font-family: monospace;background-color: #f0f8ff;border: 1px dotted black;border-radius: 0.25em;box-sizing: border-box;margin-bottom: 0.5em;}#sk-container-id-12 div.sk-estimator:hover {background-color: #d4ebff;}#sk-container-id-12 div.sk-parallel-item::after {content: \"\";width: 100%;border-bottom: 1px solid gray;flex-grow: 1;}#sk-container-id-12 div.sk-label:hover label.sk-toggleable__label {background-color: #d4ebff;}#sk-container-id-12 div.sk-serial::before {content: \"\";position: absolute;border-left: 1px solid gray;box-sizing: border-box;top: 0;bottom: 0;left: 50%;z-index: 0;}#sk-container-id-12 div.sk-serial {display: flex;flex-direction: column;align-items: center;background-color: white;padding-right: 0.2em;padding-left: 0.2em;position: relative;}#sk-container-id-12 div.sk-item {position: relative;z-index: 1;}#sk-container-id-12 div.sk-parallel {display: flex;align-items: stretch;justify-content: center;background-color: white;position: relative;}#sk-container-id-12 div.sk-item::before, #sk-container-id-12 div.sk-parallel-item::before {content: \"\";position: absolute;border-left: 1px solid gray;box-sizing: border-box;top: 0;bottom: 0;left: 50%;z-index: -1;}#sk-container-id-12 div.sk-parallel-item {display: flex;flex-direction: column;z-index: 1;position: relative;background-color: white;}#sk-container-id-12 div.sk-parallel-item:first-child::after {align-self: flex-end;width: 50%;}#sk-container-id-12 div.sk-parallel-item:last-child::after {align-self: flex-start;width: 50%;}#sk-container-id-12 div.sk-parallel-item:only-child::after {width: 0;}#sk-container-id-12 div.sk-dashed-wrapped {border: 1px dashed gray;margin: 0 0.4em 0.5em 0.4em;box-sizing: border-box;padding-bottom: 0.4em;background-color: white;}#sk-container-id-12 div.sk-label label {font-family: monospace;font-weight: bold;display: inline-block;line-height: 1.2em;}#sk-container-id-12 div.sk-label-container {text-align: center;}#sk-container-id-12 div.sk-container {/* jupyter's `normalize.less` sets `[hidden] { display: none; }` but bootstrap.min.css set `[hidden] { display: none !important; }` so we also need the `!important` here to be able to override the default hidden behavior on the sphinx rendered scikit-learn.org. See: https://github.com/scikit-learn/scikit-learn/issues/21755 */display: inline-block !important;position: relative;}#sk-container-id-12 div.sk-text-repr-fallback {display: none;}</style><div id=\"sk-container-id-12\" class=\"sk-top-container\"><div class=\"sk-text-repr-fallback\"><pre>LogisticRegression()</pre><b>In a Jupyter environment, please rerun this cell to show the HTML representation or trust the notebook. <br />On GitHub, the HTML representation is unable to render, please try loading this page with nbviewer.org.</b></div><div class=\"sk-container\" hidden><div class=\"sk-item\"><div class=\"sk-estimator sk-toggleable\"><input class=\"sk-toggleable__control sk-hidden--visually\" id=\"sk-estimator-id-12\" type=\"checkbox\" checked><label for=\"sk-estimator-id-12\" class=\"sk-toggleable__label sk-toggleable__label-arrow\">LogisticRegression</label><div class=\"sk-toggleable__content\"><pre>LogisticRegression()</pre></div></div></div></div></div>"
          },
          "metadata": {},
          "execution_count": 224
        }
      ],
      "execution_count": null
    },
    {
      "source": [
        "y_pred = model.predict(X_test_feature)\n",
        "score  = accuracy_score(y_test,y_pred)"
      ],
      "metadata": {
        "executionCancelledAt": null,
        "executionTime": 49,
        "lastExecutedAt": 1731555882265,
        "lastExecutedByKernel": "e1d8ac56-86e9-478b-ab3f-6046ee090b5d",
        "lastScheduledRunId": null,
        "lastSuccessfullyExecutedCode": "y_pred = model.predict(X_test_feature)\nscore  = accuracy_score(y_test,y_pred)",
        "id": "835bd6d8-534f-4abd-b2c8-fe75e09a494d"
      },
      "cell_type": "code",
      "id": "835bd6d8-534f-4abd-b2c8-fe75e09a494d",
      "outputs": [],
      "execution_count": null
    },
    {
      "source": [
        "feature_performance[feature] = score"
      ],
      "metadata": {
        "executionCancelledAt": null,
        "executionTime": 47,
        "lastExecutedAt": 1731555882312,
        "lastExecutedByKernel": "e1d8ac56-86e9-478b-ab3f-6046ee090b5d",
        "lastScheduledRunId": null,
        "lastSuccessfullyExecutedCode": "feature_performance[feature] = score",
        "id": "cdef8aa4-357f-4b47-9a8d-67abbc1e961a"
      },
      "cell_type": "code",
      "id": "cdef8aa4-357f-4b47-9a8d-67abbc1e961a",
      "outputs": [],
      "execution_count": null
    },
    {
      "source": [
        "print(\"Feature Predictive Performance:\", feature_performance)"
      ],
      "metadata": {
        "executionCancelledAt": null,
        "executionTime": 47,
        "lastExecutedAt": 1731555882360,
        "lastExecutedByKernel": "e1d8ac56-86e9-478b-ab3f-6046ee090b5d",
        "lastScheduledRunId": null,
        "lastSuccessfullyExecutedCode": "print(\"Feature Predictive Performance:\", feature_performance)",
        "outputsMetadata": {
          "0": {
            "height": 38,
            "type": "stream"
          }
        },
        "id": "761e2b97-04ac-4aa8-b105-df271c2abf8b",
        "outputId": "377c406d-4b8e-4ed5-954b-35fd26f245c0"
      },
      "cell_type": "code",
      "id": "761e2b97-04ac-4aa8-b105-df271c2abf8b",
      "outputs": [
        {
          "output_type": "stream",
          "name": "stdout",
          "text": "Feature Predictive Performance: {'pH': 0.1}\n"
        }
      ],
      "execution_count": null
    },
    {
      "source": [
        "if score > best_score:\n",
        "        best_score = score\n",
        "        best_feature = feature"
      ],
      "metadata": {
        "executionCancelledAt": null,
        "executionTime": 52,
        "lastExecutedAt": 1731555882412,
        "lastExecutedByKernel": "e1d8ac56-86e9-478b-ab3f-6046ee090b5d",
        "lastScheduledRunId": null,
        "lastSuccessfullyExecutedCode": "if score > best_score:\n        best_score = score\n        best_feature = feature",
        "id": "a83d44a0-5815-480e-93ae-6405716a2304"
      },
      "cell_type": "code",
      "id": "a83d44a0-5815-480e-93ae-6405716a2304",
      "outputs": [],
      "execution_count": null
    },
    {
      "source": [
        "best_predictive_feature = {best_feature: best_score}"
      ],
      "metadata": {
        "executionCancelledAt": null,
        "executionTime": 47,
        "lastExecutedAt": 1731555882460,
        "lastExecutedByKernel": "e1d8ac56-86e9-478b-ab3f-6046ee090b5d",
        "lastScheduledRunId": null,
        "lastSuccessfullyExecutedCode": "best_predictive_feature = {best_feature: best_score}",
        "id": "51ba48d3-0cb6-4ea3-b7b2-78fbe7c8ebe8"
      },
      "cell_type": "code",
      "id": "51ba48d3-0cb6-4ea3-b7b2-78fbe7c8ebe8",
      "outputs": [],
      "execution_count": null
    },
    {
      "source": [
        "print(\"Best_predictive_feature:\",best_feature)"
      ],
      "metadata": {
        "executionCancelledAt": null,
        "executionTime": 47,
        "lastExecutedAt": 1731555882508,
        "lastExecutedByKernel": "e1d8ac56-86e9-478b-ab3f-6046ee090b5d",
        "lastScheduledRunId": null,
        "lastSuccessfullyExecutedCode": "print(\"Best_predictive_feature:\",best_feature)",
        "outputsMetadata": {
          "0": {
            "height": 38,
            "type": "stream"
          }
        },
        "id": "1a13f1fc-bbcc-4da2-addc-42896e0d9434",
        "outputId": "a94d2f1e-d2f6-49c8-ae98-a61e1afd3e9b"
      },
      "cell_type": "code",
      "id": "1a13f1fc-bbcc-4da2-addc-42896e0d9434",
      "outputs": [
        {
          "output_type": "stream",
          "name": "stdout",
          "text": "Best_predictive_feature: pH\n"
        }
      ],
      "execution_count": null
    },
    {
      "source": [
        "# All required libraries are imported here for you.\n",
        "import pandas as pd\n",
        "from sklearn.linear_model import LogisticRegression\n",
        "from sklearn.model_selection import train_test_split\n",
        "from sklearn import metrics\n",
        "\n",
        "# Load the dataset\n",
        "crops = pd.read_csv(\"soil_measures.csv\")\n",
        "\n",
        "# Check for missing values\n",
        "crops.isna().sum()\n",
        "\n",
        "# Check how many crops we have, i.e., multi-class target\n",
        "crops.crop.unique()\n",
        "\n",
        "# Split into feature and target sets\n",
        "X = crops.drop(columns=\"crop\")\n",
        "y = crops[\"crop\"]\n",
        "\n",
        "# Split the data into training and testing sets\n",
        "X_train, X_test, y_train, y_test = train_test_split(\n",
        "    X,\n",
        "    y,\n",
        "    test_size=0.2,\n",
        "    random_state=42\n",
        ")\n",
        "\n",
        "# Create a dictionary to store the model performance for each feature\n",
        "feature_performance = {}\n",
        "\n",
        "# Train a logistic regression model for each feature\n",
        "for feature in [\"N\", \"P\", \"K\", \"ph\"]:\n",
        "    log_reg = LogisticRegression(multi_class=\"multinomial\")\n",
        "    log_reg.fit(X_train[[feature]], y_train)\n",
        "    y_pred = log_reg.predict(X_test[[feature]])\n",
        "\n",
        "    # Calculate F1 score, the harmonic mean of precision and recall\n",
        "    # Could also use balanced_accuracy_score\n",
        "    f1 = metrics.f1_score(y_test, y_pred, average=\"weighted\")\n",
        "\n",
        "    # Add feature-f1 score pairs to the dictionary\n",
        "    feature_performance[feature] = f1\n",
        "    print(f\"F1-score for {feature}: {f1}\")\n",
        "\n",
        "# K produced the best F1 score\n",
        "# Store in best_predictive_feature dictionary\n",
        "best_predictive_feature = {\"K\": feature_performance[\"K\"]}\n",
        "best_predictive_feature"
      ],
      "metadata": {
        "executionCancelledAt": null,
        "executionTime": null,
        "lastExecutedAt": null,
        "lastExecutedByKernel": null,
        "lastScheduledRunId": null,
        "lastSuccessfullyExecutedCode": null,
        "outputsMetadata": {
          "0": {
            "height": 101,
            "type": "stream"
          }
        },
        "id": "ae12d73c-f0ff-4542-aa94-1a45dd912400",
        "outputId": "1ee7443b-f504-418f-9458-d2c336a1c2ab"
      },
      "cell_type": "code",
      "id": "ae12d73c-f0ff-4542-aa94-1a45dd912400",
      "outputs": [
        {
          "output_type": "stream",
          "name": "stdout",
          "text": "F1-score for N: 0.09149868209906838\nF1-score for P: 0.14761942909728204\nF1-score for K: 0.23896974566001802\nF1-score for ph: 0.04532731061152114\n"
        },
        {
          "output_type": "execute_result",
          "data": {
            "text/plain": "{'K': 0.23896974566001802}"
          },
          "metadata": {},
          "execution_count": 231
        }
      ],
      "execution_count": null
    }
  ],
  "metadata": {
    "language_info": {
      "name": "python",
      "version": "3.8.10",
      "mimetype": "text/x-python",
      "codemirror_mode": {
        "name": "ipython",
        "version": 3
      },
      "pygments_lexer": "ipython3",
      "nbconvert_exporter": "python",
      "file_extension": ".py"
    },
    "kernelspec": {
      "display_name": "Python 3 (ipykernel)",
      "language": "python",
      "name": "python3"
    },
    "editor": "DataLab",
    "colab": {
      "provenance": []
    }
  },
  "nbformat": 4,
  "nbformat_minor": 5
}